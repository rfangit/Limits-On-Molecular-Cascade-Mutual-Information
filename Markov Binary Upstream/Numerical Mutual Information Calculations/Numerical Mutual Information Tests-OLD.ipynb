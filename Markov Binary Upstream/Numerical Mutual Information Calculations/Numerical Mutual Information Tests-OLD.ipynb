{
 "cells": [
  {
   "cell_type": "markdown",
   "id": "2187f34e-efcd-4513-90d6-5b54bc9448f0",
   "metadata": {},
   "source": [
    "# Introduction To Numerical Mutual Information Tests\n",
    "\n",
    "In this notebook, we use the numerical probability generation functions tested in \"Probability_Distribution_Tests\", generate several relevant joint probability distributions and test their properties. It contains:\n",
    "\n",
    "- Example Probability Calculation\n",
    "- Normalization Checks\n",
    "- Mutual Information Checks"
   ]
  },
  {
   "cell_type": "code",
   "execution_count": 9,
   "id": "86c4e301-f389-4f37-b3c0-1d70fb1e2f91",
   "metadata": {},
   "outputs": [
    {
     "name": "stdout",
     "output_type": "stream",
     "text": [
      "Done producing the relevant pdfs!\n"
     ]
    }
   ],
   "source": [
    "import numpy as np\n",
    "from scipy.integrate import solve_ivp\n",
    "import matplotlib.pyplot as plt\n",
    "from binary_markov_funcs import two_state_system_dt, two_state_system_detection_dt\n",
    "\n",
    "# Simulation parameters\n",
    "initial_p = np.array([1.0, 0.0])  # Start in OFF state\n",
    "k_on = 1.0\n",
    "k_off = 1.0\n",
    "alpha = 5.0\n",
    "\n",
    "t_max = 30.0  # Total simulation time\n",
    "dt = 0.01  # Time step size (user can adjust)\n",
    "t_eval = np.arange(0, t_max, dt)\n",
    "num_time_points = len(t_eval)\n",
    "\n",
    "# Run simulation and save\n",
    "solution = solve_ivp(two_state_system_dt, [0, t_max], initial_p, \n",
    "                    t_eval=t_eval, method='RK45', args=(k_off, k_on))\n",
    "steady_state = solution.y[:, -1]  # Final probabilities\n",
    "np.save('steady_state.npy', steady_state) # SAVE THE STEADY STATE SOLUTION\n",
    "\n",
    "# The initial steady state conditioned on a detectable event occuring\n",
    "state_indices = np.arange(steady_state.shape[0])  # [0, 1, 2, ...]\n",
    "weighted_init_norm_factors = np.sum(steady_state * state_indices, keepdims=True)\n",
    "# Safe division (skip where denominator is zero)\n",
    "with np.errstate(divide='ignore', invalid='ignore'):\n",
    "    normalized_init_state = (steady_state * state_indices) / weighted_init_norm_factors\n",
    "    normalized_init_state = np.nan_to_num(normalized_init_state)  # Convert NaN/inf to 0\n",
    "np.save('steady_state_with_detection.npy', normalized_init_state) # SAVE THE STEADY STATE SOLUTION\n",
    "\n",
    "# Run detection simulation for each initial condition\n",
    "num_states = 2  # Number of initial states in the system (user specifies this)\n",
    "solution = np.zeros((num_states, num_time_points, num_states))\n",
    "\n",
    "for initial_state in range(num_states):\n",
    "    # Create initial condition (100% in current state)\n",
    "    initial_p = np.zeros(num_states)\n",
    "    initial_p[initial_state] = 1.0\n",
    "    \n",
    "    # Solve ODE system\n",
    "    sol = solve_ivp(two_state_system_detection_dt, [0, t_max], initial_p, \n",
    "                   t_eval=t_eval, method='RK45', args=(k_off, k_on, alpha))\n",
    "    # Store solution in array (solution[initial_state, time_index, state_value])\n",
    "    solution[initial_state, :, :] = sol.y.T\n",
    "np.save('ode_solutions.npy', solution) # SAVE THE ODE SOLUTION\n",
    "\n",
    "# Normalize each initial condition's solution, to find the probability of randomly observing\n",
    "# a particular time since the last event and the current state\n",
    "normalized_solution = np.zeros_like(solution)\n",
    "for initial_state in range(solution.shape[0]):\n",
    "    # Sum over states for each time point (keep dimensions for broadcasting)\n",
    "    norm_factors = np.sum(solution[initial_state]*dt)\n",
    "    normalized_solution[initial_state] = solution[initial_state] / norm_factors\n",
    "np.save('time_since_last_event.npy', normalized_solution)\n",
    "\n",
    "# Create marginalized array by summing over x values (axis=2)\n",
    "marginalized = np.sum(solution, axis=2)  # Shape: [initial_conditions, time_points]\n",
    "# Compute death probability density (negative time derivative of S)\n",
    "death_prob = -np.diff(marginalized, axis=1) / dt  # Finite difference derivative\n",
    "# Pad with zero to match original array size\n",
    "death_prob = np.pad(death_prob, ((0,0),(0,1)), mode='constant') #Shape: [initial_conditions, time_points]\n",
    "np.save('death_probs.npy', death_prob) # SAVE THE PROBABILITY OF DEATH AT TIME INDEX GIVEN INITIAL CONDITION \n",
    "\n",
    "# Create state indices array for weighting\n",
    "state_indices = np.arange(solution.shape[2])  # [0, 1, 2, ...]\n",
    "# Compute weighted sum (expectation value), to normalize by the probability of the current x given t and init\n",
    "weighted_norm_factors = np.sum(solution * state_indices, axis=2, keepdims=True)\n",
    "# Safe division (skip where denominator is zero)\n",
    "with np.errstate(divide='ignore', invalid='ignore'):\n",
    "    normalized_solution = (solution * state_indices) / weighted_norm_factors\n",
    "    normalized_solution = np.nan_to_num(normalized_solution)  # Convert NaN/inf to 0\n",
    "np.save('prob_x_given_t_and_init.npy', normalized_solution) # SAVE THE PROBABILITY OF X given a reaction time and initial condition \n",
    "\n",
    "print (\"Done producing the relevant pdfs!\")"
   ]
  },
  {
   "cell_type": "markdown",
   "id": "eb339bae-4ef5-40ba-ae0e-be84859e0a74",
   "metadata": {},
   "source": [
    "### Loading Generated PDFs"
   ]
  },
  {
   "cell_type": "code",
   "execution_count": 10,
   "id": "d510d472-c042-4fe5-98c7-e023d35da464",
   "metadata": {},
   "outputs": [
    {
     "name": "stdout",
     "output_type": "stream",
     "text": [
      "Steady state solution shape: (2,)\n",
      "Steady state with detection: [0. 1.]\n",
      "ODE solutions shape: (2, 3000, 2)\n",
      "Time since last event shape: (2, 3000, 2)\n",
      "Death probabilities shape: (2, 3000)\n",
      "Probability of X given t and init shape: (2, 3000, 2)\n"
     ]
    }
   ],
   "source": [
    "import numpy as np\n",
    "# With our code, we now want to generate the probability distribution\n",
    "# Load each array\n",
    "steady_state = np.load('steady_state.npy')\n",
    "steady_state_with_detection = np.load('steady_state_with_detection.npy')\n",
    "ode_solutions = np.load('ode_solutions.npy')\n",
    "time_since_last_event = np.load('time_since_last_event.npy')\n",
    "death_probs = np.load('death_probs.npy')\n",
    "prob_x_given_t_and_init = np.load('prob_x_given_t_and_init.npy')\n",
    "\n",
    "# Now you can use these arrays in your code\n",
    "print(\"Steady state solution shape:\", steady_state.shape)\n",
    "print(\"Steady state with detection:\", steady_state_with_detection)\n",
    "print(\"ODE solutions shape:\", ode_solutions.shape)\n",
    "print(\"Time since last event shape:\", time_since_last_event.shape)\n",
    "print(\"Death probabilities shape:\", death_probs.shape)\n",
    "print(\"Probability of X given t and init shape:\", prob_x_given_t_and_init.shape)"
   ]
  },
  {
   "cell_type": "markdown",
   "id": "6e2fa591-96a7-4cee-ad14-e46ca22cc370",
   "metadata": {},
   "source": [
    "# Example Probability Calculation\n",
    "\n",
    "From our original numerical solution, we can obtain PDFs relevant to the mutual information of interest with the following functions."
   ]
  },
  {
   "cell_type": "code",
   "execution_count": 11,
   "id": "59c40575-e2b9-4520-84fa-be5334ae7bec",
   "metadata": {},
   "outputs": [],
   "source": [
    "def numerical_prob_x_t_xi(init_cond, time_index, current_x, steady_state_with_detection, time_since_last_event):\n",
    "    return steady_state_with_detection[init_cond] * time_since_last_event[init_cond, time_index, current_x]\n",
    "\n",
    "def numerical_prob_x_t_given_xi(init_cond, time_index, current_x, time_since_last_event):\n",
    "    return time_since_last_event[init_cond, time_index, current_x]\n",
    "    \n",
    "# Imagine we want to the probability distribution of (init cond, time index, time index2, current state)\n",
    "# Then we need steady state with detection[init cond] * death_probs[init cond, time index2] * \n",
    "# sum over intermediate x of prob_x_given_t_and_init[init cond, time index2, intermediate x]*\n",
    "# time_since_last_event[intermediate x, time index, current state]\n",
    "def numerical_prob_x_t_t2_xi(init_cond, time_index, time_index2, current_x, steady_state_with_detection,\n",
    "                             time_since_last_event, death_probs, prob_x_given_t_and_init, num_x_states):\n",
    "    prob = steady_state_with_detection[init_cond]*death_probs[init_cond, time_index2]\n",
    "    intermediate_sum = 0\n",
    "    for intermediate_value in range(1, num_x_states):\n",
    "        intermediate_sum += prob_x_given_t_and_init[init_cond, time_index2, intermediate_value]*time_since_last_event[intermediate_value, time_index, current_x]\n",
    "    return prob*intermediate_sum\n",
    "\n",
    "# Given we know the initial condition, we want the probability of that a molecular death event occurs at time index t\n",
    "# and results in a state end_x. This is given by death_probs[init_cond, time_index] * prob_x_given_t_and_init[init_cond, time_index, end_x]\n",
    "def numerical_prob_deathevent_x_t_conditioned_xi(init_cond, time_index, end_x, death_probs, prob_x_given_t_and_init):\n",
    "    return death_probs[init_cond, time_index] * prob_x_given_t_and_init[init_cond, time_index, end_x]"
   ]
  },
  {
   "cell_type": "markdown",
   "id": "d02a91e7-3c6e-4290-92e7-6de3a1e9822d",
   "metadata": {},
   "source": [
    "An example of our numerical algorithms results vs the analytical solution from earlier."
   ]
  },
  {
   "cell_type": "code",
   "execution_count": 20,
   "id": "69be4df0-251b-43c5-957c-c1bdd1b6c719",
   "metadata": {},
   "outputs": [
    {
     "name": "stdout",
     "output_type": "stream",
     "text": [
      "1.8313434183775188\n",
      "1.831482452040721\n"
     ]
    }
   ],
   "source": [
    "from binary_markov_funcs import two_state_analytical_solution, two_state_markov_pdfgen\n",
    "\n",
    "print (numerical_prob_x_t_xi(1, 5, 1, steady_state_with_detection, time_since_last_event))\n",
    "joint_prob, survival_time_prob, x_steady_probs = two_state_markov_pdfgen(k_on, k_off, alpha, t_eval)\n",
    "#Note that our analytical joint probability distribution ignores the probability of initial state = 0\n",
    "#So it's shape is [current_x, time_index]\n",
    "print (joint_prob[1, 5]) "
   ]
  },
  {
   "cell_type": "code",
   "execution_count": 17,
   "id": "890ceda0-c371-4723-92f3-47bd49e3a133",
   "metadata": {},
   "outputs": [
    {
     "data": {
      "image/png": "[encoded data removed]",
      "text/plain": [
       "<Figure size 1000x600 with 1 Axes>"
      ]
     },
     "metadata": {},
     "output_type": "display_data"
    }
   ],
   "source": [
    "# Evaluate for multiple time indices\n",
    "indices = np.arange(len(t_eval))  # Use all time points or select a range\n",
    "\n",
    "# Calculate numerical probabilities\n",
    "numerical_probs = np.array([numerical_prob_x_t_xi(1, i, 1, steady_state_with_detection, time_since_last_event) \n",
    "                           for i in indices])\n",
    "\n",
    "# Get analytical solution (assuming you've already computed this)\n",
    "P_on, P_off = two_state_analytical_solution(k_on, k_off, alpha, t_eval)\n",
    "\n",
    "# Plot both results\n",
    "plt.figure(figsize=(10, 6))\n",
    "plt.plot(t_eval[indices], P_on[indices], label='Analytical P_on', linewidth=2)\n",
    "plt.plot(t_eval[indices], numerical_probs, '--', label='Numerical Probability', linewidth=2)\n",
    "plt.xlim([0, 5])\n",
    "plt.xlabel('Time')\n",
    "plt.ylabel('Probability')\n",
    "plt.title('Comparison of Analytical and Numerical Solutions')\n",
    "plt.legend()\n",
    "plt.grid(True)\n",
    "plt.show()"
   ]
  },
  {
   "cell_type": "markdown",
   "id": "3b75f04c-f5cd-47fb-9707-5a7635ee92d3",
   "metadata": {},
   "source": [
    "Two methods of computing probabilities associated with multiple time-steps."
   ]
  },
  {
   "cell_type": "code",
   "execution_count": 10,
   "id": "bb9e1d39-7ade-4a89-adff-d43692b1f883",
   "metadata": {},
   "outputs": [
    {
     "name": "stdout",
     "output_type": "stream",
     "text": [
      "1.4564777222283607\n"
     ]
    }
   ],
   "source": [
    "print (numerical_prob_x_t_t2_xi(1, 5, 5, 1, steady_state_with_detection, time_since_last_event, death_probs, prob_x_given_t_and_init, 2))\n",
    "\n",
    "#Alternate way of getting the probability (x, t_1, t_2, x_i):\n",
    "#Compute P_death at(x_middle, t_2, x_i) * P_survival(x, t_1, x_middle)\n",
    "#and sum over all the middle x values, which in this case we can skip cause they're 0!\n",
    "P_death = numerical_prob_deathevent_x_t_conditioned_xi(1, 5, 1, death_probs, prob_x_given_t_and_init)\n",
    "P_survival_given_xmed = time_since_last_event[1, 5, 1]\n",
    "prob_x_t_t2_xi = steady_state_with_detection[1]*P_death*P_survival_given_xmed\n",
    "print (prob_x_t_t2_xi)"
   ]
  },
  {
   "cell_type": "markdown",
   "id": "275be058-ba94-4743-8a76-8433c93f3f14",
   "metadata": {},
   "source": [
    "## Normalization Checks\n",
    "\n",
    "Our final probability distributions should be normalized. We'll compute the norm."
   ]
  },
  {
   "cell_type": "code",
   "execution_count": 13,
   "id": "047003b4-ed56-4534-b603-144d63ec8729",
   "metadata": {},
   "outputs": [
    {
     "name": "stdout",
     "output_type": "stream",
     "text": [
      "0.9999999999999952\n"
     ]
    }
   ],
   "source": [
    "total_prob = 0\n",
    "for time_index in range(len(t_eval)):\n",
    "    for current_x in range(2):\n",
    "        for init_cond in range(1, 2):\n",
    "            total_prob += numerical_prob_x_t_xi(init_cond, time_index, current_x, steady_state_with_detection, time_since_last_event)*dt\n",
    "print (total_prob)"
   ]
  },
  {
   "cell_type": "markdown",
   "id": "9a442ced-fd41-423c-9a06-2351c845de17",
   "metadata": {},
   "source": [
    "We also check for the normalization of the two-step mutual information."
   ]
  },
  {
   "cell_type": "code",
   "execution_count": 13,
   "id": "7b41a934-5d5b-4aea-9fa5-2bda8ad33aec",
   "metadata": {},
   "outputs": [
    {
     "name": "stdout",
     "output_type": "stream",
     "text": [
      "0.9999998589383947\n"
     ]
    }
   ],
   "source": [
    "total_prob = 0\n",
    "for time_index in range(len(t_eval)):\n",
    "    for time_index2 in range(len(t_eval)):\n",
    "        for current_x in range(2):\n",
    "            for init_cond in range(1, 2):\n",
    "                total_prob += numerical_prob_x_t_t2_xi(init_cond, time_index, time_index2, current_x, steady_state_with_detection,\n",
    "                             time_since_last_event, death_probs, prob_x_given_t_and_init, 2)*dt*dt\n",
    "print (total_prob)"
   ]
  },
  {
   "cell_type": "markdown",
   "id": "0b1aa9f9-0942-4072-aa44-0fbd37bde084",
   "metadata": {},
   "source": [
    "The normalization is approximately 1, as expected."
   ]
  },
  {
   "cell_type": "markdown",
   "id": "ee984e31-04d2-4bd8-acf0-914f081ef120",
   "metadata": {},
   "source": [
    "# Mutual Information Checks\n",
    "\n",
    "We check the results of our numerical approach for computing the mutual information agree with our analytical results."
   ]
  },
  {
   "cell_type": "code",
   "execution_count": 14,
   "id": "2aa65a73-7da9-4669-aeb6-2ea39d261a63",
   "metadata": {},
   "outputs": [
    {
     "name": "stdout",
     "output_type": "stream",
     "text": [
      "The joint entropy is  1.820339767487756\n",
      "The time entropy is  1.169081732684137\n",
      "The difference is  0.651258034803619\n"
     ]
    }
   ],
   "source": [
    "joint_entropy = 0\n",
    "time_entropy = 0\n",
    "\n",
    "for time_index in range(len(t_eval)):\n",
    "    prob_t = 0\n",
    "    for current_x in range(2):\n",
    "        prob_x_t = 0\n",
    "        for init_cond in range(1, 2):\n",
    "            prob_x_t_xi = numerical_prob_x_t_xi(init_cond, time_index, current_x, steady_state_with_detection, time_since_last_event)\n",
    "            prob_x_t += prob_x_t_xi\n",
    "        if prob_x_t > 0:\n",
    "            joint_entropy += -prob_x_t * np.log2(prob_x_t)*dt\n",
    "        prob_t += prob_x_t\n",
    "    if prob_t > 0:\n",
    "        time_entropy += -prob_t * np.log2(prob_t)*dt\n",
    "\n",
    "print (\"The joint entropy is \", joint_entropy)\n",
    "print (\"The time entropy is \", time_entropy)\n",
    "print (\"The difference is \", joint_entropy - time_entropy)"
   ]
  },
  {
   "cell_type": "code",
   "execution_count": 15,
   "id": "a0fc27ee-51a7-4008-bc30-e9388562e311",
   "metadata": {},
   "outputs": [
    {
     "name": "stdout",
     "output_type": "stream",
     "text": [
      "The joint entropy is  1.8199501608144943\n",
      "The time entropy is  1.169081732684137\n",
      "The difference is  0.6508684281303574\n"
     ]
    }
   ],
   "source": [
    "# Comparison with analytics\n",
    "from binary_markov_funcs import mutual_information_calc\n",
    "mutual_information, joint_entropy, survival_time_entropy, x_entropy = mutual_information_calc(k_on, k_off, alpha, t_eval, dt)\n",
    "print (\"The joint entropy is \", joint_entropy)\n",
    "print (\"The time entropy is \", time_entropy)\n",
    "print (\"The difference is \", joint_entropy - time_entropy)"
   ]
  },
  {
   "cell_type": "markdown",
   "id": "3c5d9a51-e7a6-432f-9312-2bff33d7bf69",
   "metadata": {},
   "source": [
    "## Multi-Step Entropy Calculation\n",
    "\n",
    "We also check a multi-step entropy calculation, noting that the mutual information should be the same as the single step (which can be shown explicitly from the factorization of the PDF). "
   ]
  },
  {
   "cell_type": "code",
   "execution_count": 16,
   "id": "cb4ee05a-8230-429d-935a-47876f69fac4",
   "metadata": {},
   "outputs": [
    {
     "name": "stdout",
     "output_type": "stream",
     "text": [
      "Time index  0\n",
      "Time index  500\n",
      "Time index  1000\n",
      "Time index  1500\n",
      "Time index  2000\n",
      "Time index  2500\n",
      "4.124537243296322   3.302864436617181\n",
      "0.8216728066791408\n"
     ]
    }
   ],
   "source": [
    "joint_entropy = 0\n",
    "time_entropy = 0\n",
    "\n",
    "for time_index in range(len(t_eval)):\n",
    "    for time_index2 in range(len(t_eval)):\n",
    "        prob_t = 0\n",
    "        for current_x in range(2):\n",
    "            prob_x_t = 0\n",
    "            for init_cond in range(1, 2):\n",
    "                prob_x_t_xi = numerical_prob_x_t_t2_xi(init_cond, time_index, time_index2, current_x, steady_state_with_detection,\n",
    "                             time_since_last_event, death_probs, prob_x_given_t_and_init, 2)\n",
    "                prob_x_t += prob_x_t_xi\n",
    "            if prob_x_t > 0:\n",
    "                joint_entropy += -prob_x_t * np.log2(prob_x_t)*dt*dt\n",
    "            prob_t += prob_x_t\n",
    "        if prob_t > 0:\n",
    "            time_entropy += -prob_t * np.log2(prob_t)*dt*dt\n",
    "    if time_index %500 == 0:\n",
    "        print (\"Time index \", time_index)\n",
    "print (\"The joint entropy is \", joint_entropy)\n",
    "print (\"The time entropy is \", time_entropy)\n",
    "print (\"The difference is \", joint_entropy - time_entropy)"
   ]
  },
  {
   "cell_type": "markdown",
   "id": "1f6e02e8-93aa-46e4-b780-f4aeefab4ba3",
   "metadata": {},
   "source": [
    "We find good agreement between the mutual information in all three computations, as expected. "
   ]
  },
  {
   "cell_type": "markdown",
   "id": "03f26a1f-3632-4069-98f7-85bb275d66c1",
   "metadata": {},
   "source": [
    "Next steps: turn these into nice example functions and use them to generate N vs Alpha. Also create functions to generate the upper bound and lower bound for more complex systems.\n",
    "\n",
    "Then finally a Poisson type upstream."
   ]
  },
  {
   "cell_type": "code",
   "execution_count": null,
   "id": "7922903e-ae3c-4698-a436-1b30de079b6b",
   "metadata": {},
   "outputs": [],
   "source": []
  }
 ],
 "metadata": {
  "kernelspec": {
   "display_name": "Python (diffusion-env)",
   "language": "python",
   "name": "diffusion-env"
  },
  "language_info": {
   "codemirror_mode": {
    "name": "ipython",
    "version": 3
   },
   "file_extension": ".py",
   "mimetype": "text/x-python",
   "name": "python",
   "nbconvert_exporter": "python",
   "pygments_lexer": "ipython3",
   "version": "3.12.6"
  }
 },
 "nbformat": 4,
 "nbformat_minor": 5
}
